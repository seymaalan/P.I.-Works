{
 "cells": [
  {
   "cell_type": "markdown",
   "id": "74fdb0cc",
   "metadata": {},
   "source": [
    "## Country Vaccinations\n",
    "\n",
    "coded by Şeyma Alan."
   ]
  },
  {
   "cell_type": "code",
   "execution_count": 2,
   "id": "43eecae3",
   "metadata": {
    "scrolled": true
   },
   "outputs": [
    {
     "data": {
      "text/html": [
       "<div>\n",
       "<style scoped>\n",
       "    .dataframe tbody tr th:only-of-type {\n",
       "        vertical-align: middle;\n",
       "    }\n",
       "\n",
       "    .dataframe tbody tr th {\n",
       "        vertical-align: top;\n",
       "    }\n",
       "\n",
       "    .dataframe thead th {\n",
       "        text-align: right;\n",
       "    }\n",
       "</style>\n",
       "<table border=\"1\" class=\"dataframe\">\n",
       "  <thead>\n",
       "    <tr style=\"text-align: right;\">\n",
       "      <th></th>\n",
       "      <th>country</th>\n",
       "      <th>date</th>\n",
       "      <th>daily_vaccinations</th>\n",
       "      <th>vaccines</th>\n",
       "    </tr>\n",
       "  </thead>\n",
       "  <tbody>\n",
       "    <tr>\n",
       "      <th>0</th>\n",
       "      <td>Argentina</td>\n",
       "      <td>12/29/2020</td>\n",
       "      <td>NaN</td>\n",
       "      <td>Sputnik V</td>\n",
       "    </tr>\n",
       "    <tr>\n",
       "      <th>1</th>\n",
       "      <td>Argentina</td>\n",
       "      <td>12/30/2020</td>\n",
       "      <td>15656.0</td>\n",
       "      <td>Sputnik V</td>\n",
       "    </tr>\n",
       "    <tr>\n",
       "      <th>2</th>\n",
       "      <td>Argentina</td>\n",
       "      <td>12/31/2020</td>\n",
       "      <td>15656.0</td>\n",
       "      <td>Sputnik V</td>\n",
       "    </tr>\n",
       "    <tr>\n",
       "      <th>3</th>\n",
       "      <td>Argentina</td>\n",
       "      <td>1/1/2021</td>\n",
       "      <td>11070.0</td>\n",
       "      <td>Sputnik V</td>\n",
       "    </tr>\n",
       "    <tr>\n",
       "      <th>4</th>\n",
       "      <td>Argentina</td>\n",
       "      <td>1/2/2021</td>\n",
       "      <td>8776.0</td>\n",
       "      <td>Sputnik V</td>\n",
       "    </tr>\n",
       "  </tbody>\n",
       "</table>\n",
       "</div>"
      ],
      "text/plain": [
       "     country        date  daily_vaccinations   vaccines\n",
       "0  Argentina  12/29/2020                 NaN  Sputnik V\n",
       "1  Argentina  12/30/2020             15656.0  Sputnik V\n",
       "2  Argentina  12/31/2020             15656.0  Sputnik V\n",
       "3  Argentina    1/1/2021             11070.0  Sputnik V\n",
       "4  Argentina    1/2/2021              8776.0  Sputnik V"
      ]
     },
     "execution_count": 2,
     "metadata": {},
     "output_type": "execute_result"
    }
   ],
   "source": [
    "#Firstly, import csv file, check first rows\n",
    "\n",
    "\n",
    "import numpy as np\n",
    "import pandas as pd\n",
    "\n",
    "df = pd.read_csv('country_vaccination_stats.csv')\n",
    "df.head()"
   ]
  },
  {
   "cell_type": "markdown",
   "id": "45f40558",
   "metadata": {},
   "source": [
    "#### 4:::: Code Implementation Task: \n",
    "Implement code to fill the missing data (impute) in daily_vaccinations column per country with the minimum daily vaccination number of relevant countries.  \n",
    "Note: If a country does not have any valid vaccination number yet, fill it with “0” (zero). \n",
    "Please  provide the link to your code as answer to this question."
   ]
  },
  {
   "cell_type": "code",
   "execution_count": 38,
   "id": "215bef82",
   "metadata": {},
   "outputs": [],
   "source": [
    "# Create a dataframe that holds the mean value per country\n",
    "\n",
    "means_country = df.groupby('country').mean()"
   ]
  },
  {
   "cell_type": "code",
   "execution_count": 39,
   "id": "c27a4438",
   "metadata": {
    "scrolled": false
   },
   "outputs": [
    {
     "data": {
      "text/plain": [
       "country\n",
       "Argentina                11446.703704\n",
       "Austria                   8424.421053\n",
       "Bahrain                   4089.500000\n",
       "Belgium                   5579.880000\n",
       "Brazil                   38115.000000\n",
       "Bulgaria                  1046.629630\n",
       "Canada                   18217.761905\n",
       "Chile                     2189.937500\n",
       "China                   331101.194444\n",
       "Costa Rica                 998.760000\n",
       "Croatia                   2260.076923\n",
       "Cyprus                     752.937500\n",
       "Czechia                   6427.379310\n",
       "Denmark                   7108.482759\n",
       "Ecuador                    108.000000\n",
       "England                 134116.514286\n",
       "Estonia                    873.142857\n",
       "Finland                   3418.400000\n",
       "France                   43762.809524\n",
       "Germany                  57021.321429\n",
       "Gibraltar                  770.000000\n",
       "Greece                    4986.714286\n",
       "Hungary                   5450.925926\n",
       "Iceland                    206.423077\n",
       "India                   177897.600000\n",
       "Indonesia                12943.153846\n",
       "Ireland                   5234.916667\n",
       "Isle of Man                136.500000\n",
       "Israel                   93289.486486\n",
       "Italy                    45954.241379\n",
       "Kuwait                       0.000000\n",
       "Latvia                     724.535714\n",
       "Lithuania                 2294.193548\n",
       "Luxembourg                 218.160000\n",
       "Malta                      636.703704\n",
       "Mexico                   18186.375000\n",
       "Netherlands               7217.000000\n",
       "Northern Ireland          4097.333333\n",
       "Norway                    2556.857143\n",
       "Oman                      1205.518519\n",
       "Panama                    1149.200000\n",
       "Poland                   24270.814815\n",
       "Portugal                  7633.357143\n",
       "Romania                  13702.107143\n",
       "Russia                   31966.413793\n",
       "Saudi Arabia             19245.909091\n",
       "Scotland                  8542.404762\n",
       "Serbia                    7623.117647\n",
       "Seychelles                1053.642857\n",
       "Singapore                 4771.818182\n",
       "Slovakia                  4849.588235\n",
       "Slovenia                  2377.714286\n",
       "Spain                    56747.190476\n",
       "Sweden                    5970.904762\n",
       "Switzerland               4111.689655\n",
       "Turkey                  157642.916667\n",
       "United Arab Emirates     80793.150000\n",
       "United Kingdom          153395.400000\n",
       "United States           527526.055556\n",
       "Wales                     5130.214286\n",
       "Name: daily_vaccinations, dtype: float64"
      ]
     },
     "execution_count": 39,
     "metadata": {},
     "output_type": "execute_result"
    }
   ],
   "source": [
    "# Check the series and fill NaN values with 0\n",
    "means_country = means_country['daily_vaccinations'].fillna(0)\n",
    "means_country"
   ]
  },
  {
   "cell_type": "code",
   "execution_count": 42,
   "id": "1feedf08",
   "metadata": {},
   "outputs": [],
   "source": [
    "# Convert series to data frame\n",
    "means_country = means_country.reset_index()"
   ]
  },
  {
   "cell_type": "code",
   "execution_count": 52,
   "id": "54c8177d",
   "metadata": {},
   "outputs": [],
   "source": [
    "# Last step: fill NaN values with the corresponding mean values\n",
    "\n",
    "##df['daily_vaccinations'] = df['daily_vaccinations'].mask(df['daily_vaccinations'] == np.nan)\n",
    "df['daily_vaccinations'] = df['daily_vaccinations'].fillna(df['country'].map(means_country.set_index('country')['daily_vaccinations']))"
   ]
  },
  {
   "cell_type": "code",
   "execution_count": 53,
   "id": "368553e9",
   "metadata": {},
   "outputs": [
    {
     "data": {
      "text/plain": [
       "country               0\n",
       "date                  0\n",
       "daily_vaccinations    0\n",
       "vaccines              0\n",
       "dtype: int64"
      ]
     },
     "execution_count": 53,
     "metadata": {},
     "output_type": "execute_result"
    }
   ],
   "source": [
    "# Check is there any null value\n",
    "df.isnull().sum()"
   ]
  },
  {
   "cell_type": "markdown",
   "id": "3878d35f",
   "metadata": {},
   "source": [
    "#### 5:::: Code Implementation Task: \n",
    "Implement code to list the top-3 countries with highest median daily vaccination numbers by considering missing values imputed version of dataset.\n",
    "Please  provide the link to your code as answer to this question."
   ]
  },
  {
   "cell_type": "code",
   "execution_count": 55,
   "id": "0def4b7d",
   "metadata": {},
   "outputs": [
    {
     "data": {
      "text/html": [
       "<div>\n",
       "<style scoped>\n",
       "    .dataframe tbody tr th:only-of-type {\n",
       "        vertical-align: middle;\n",
       "    }\n",
       "\n",
       "    .dataframe tbody tr th {\n",
       "        vertical-align: top;\n",
       "    }\n",
       "\n",
       "    .dataframe thead th {\n",
       "        text-align: right;\n",
       "    }\n",
       "</style>\n",
       "<table border=\"1\" class=\"dataframe\">\n",
       "  <thead>\n",
       "    <tr style=\"text-align: right;\">\n",
       "      <th></th>\n",
       "      <th>daily_vaccinations</th>\n",
       "    </tr>\n",
       "    <tr>\n",
       "      <th>country</th>\n",
       "      <th></th>\n",
       "    </tr>\n",
       "  </thead>\n",
       "  <tbody>\n",
       "    <tr>\n",
       "      <th>Argentina</th>\n",
       "      <td>11645.000000</td>\n",
       "    </tr>\n",
       "    <tr>\n",
       "      <th>Austria</th>\n",
       "      <td>8188.710526</td>\n",
       "    </tr>\n",
       "    <tr>\n",
       "      <th>Bahrain</th>\n",
       "      <td>4080.000000</td>\n",
       "    </tr>\n",
       "    <tr>\n",
       "      <th>Belgium</th>\n",
       "      <td>4016.000000</td>\n",
       "    </tr>\n",
       "    <tr>\n",
       "      <th>Brazil</th>\n",
       "      <td>32709.500000</td>\n",
       "    </tr>\n",
       "  </tbody>\n",
       "</table>\n",
       "</div>"
      ],
      "text/plain": [
       "           daily_vaccinations\n",
       "country                      \n",
       "Argentina        11645.000000\n",
       "Austria           8188.710526\n",
       "Bahrain           4080.000000\n",
       "Belgium           4016.000000\n",
       "Brazil           32709.500000"
      ]
     },
     "execution_count": 55,
     "metadata": {},
     "output_type": "execute_result"
    }
   ],
   "source": [
    "# Create a series that holds the median value per country\n",
    "# Then check the series\n",
    "\n",
    "median_country = df.groupby('country').median()\n",
    "median_country.head()"
   ]
  },
  {
   "cell_type": "code",
   "execution_count": 59,
   "id": "e303df14",
   "metadata": {},
   "outputs": [
    {
     "data": {
      "text/plain": [
       "country\n",
       "Argentina    11645.000000\n",
       "Austria       8188.710526\n",
       "Bahrain       4080.000000\n",
       "Name: daily_vaccinations, dtype: float64"
      ]
     },
     "execution_count": 59,
     "metadata": {},
     "output_type": "execute_result"
    }
   ],
   "source": [
    "# Last step, result is:\n",
    "median_country['daily_vaccinations'].head(3)"
   ]
  },
  {
   "cell_type": "markdown",
   "id": "cd209186",
   "metadata": {},
   "source": [
    "#### 6:::: Code Implementation Task: \n",
    "What is the number of total vaccinations done on 1/6/2021 (MM/DD/YYYY) by considering missing values imputed version of dataset? Please  just provide the number as answer."
   ]
  },
  {
   "cell_type": "code",
   "execution_count": 61,
   "id": "ae32d420",
   "metadata": {
    "scrolled": true
   },
   "outputs": [
    {
     "data": {
      "text/html": [
       "<div>\n",
       "<style scoped>\n",
       "    .dataframe tbody tr th:only-of-type {\n",
       "        vertical-align: middle;\n",
       "    }\n",
       "\n",
       "    .dataframe tbody tr th {\n",
       "        vertical-align: top;\n",
       "    }\n",
       "\n",
       "    .dataframe thead th {\n",
       "        text-align: right;\n",
       "    }\n",
       "</style>\n",
       "<table border=\"1\" class=\"dataframe\">\n",
       "  <thead>\n",
       "    <tr style=\"text-align: right;\">\n",
       "      <th></th>\n",
       "      <th>daily_vaccinations</th>\n",
       "    </tr>\n",
       "    <tr>\n",
       "      <th>date</th>\n",
       "      <th></th>\n",
       "    </tr>\n",
       "  </thead>\n",
       "  <tbody>\n",
       "    <tr>\n",
       "      <th>1/1/2021</th>\n",
       "      <td>9.374260e+05</td>\n",
       "    </tr>\n",
       "    <tr>\n",
       "      <th>1/10/2021</th>\n",
       "      <td>1.927839e+06</td>\n",
       "    </tr>\n",
       "    <tr>\n",
       "      <th>1/11/2021</th>\n",
       "      <td>1.983708e+06</td>\n",
       "    </tr>\n",
       "    <tr>\n",
       "      <th>1/12/2021</th>\n",
       "      <td>2.002382e+06</td>\n",
       "    </tr>\n",
       "    <tr>\n",
       "      <th>1/13/2021</th>\n",
       "      <td>2.286285e+06</td>\n",
       "    </tr>\n",
       "    <tr>\n",
       "      <th>1/14/2021</th>\n",
       "      <td>2.558868e+06</td>\n",
       "    </tr>\n",
       "    <tr>\n",
       "      <th>1/15/2021</th>\n",
       "      <td>2.937090e+06</td>\n",
       "    </tr>\n",
       "    <tr>\n",
       "      <th>1/16/2021</th>\n",
       "      <td>3.001703e+06</td>\n",
       "    </tr>\n",
       "    <tr>\n",
       "      <th>1/17/2021</th>\n",
       "      <td>2.944891e+06</td>\n",
       "    </tr>\n",
       "    <tr>\n",
       "      <th>1/18/2021</th>\n",
       "      <td>3.067223e+06</td>\n",
       "    </tr>\n",
       "    <tr>\n",
       "      <th>1/19/2021</th>\n",
       "      <td>3.280793e+06</td>\n",
       "    </tr>\n",
       "    <tr>\n",
       "      <th>1/2/2021</th>\n",
       "      <td>1.014630e+06</td>\n",
       "    </tr>\n",
       "    <tr>\n",
       "      <th>1/20/2021</th>\n",
       "      <td>3.341204e+06</td>\n",
       "    </tr>\n",
       "    <tr>\n",
       "      <th>1/21/2021</th>\n",
       "      <td>2.683766e+06</td>\n",
       "    </tr>\n",
       "    <tr>\n",
       "      <th>1/22/2021</th>\n",
       "      <td>2.772300e+06</td>\n",
       "    </tr>\n",
       "    <tr>\n",
       "      <th>1/23/2021</th>\n",
       "      <td>2.918389e+06</td>\n",
       "    </tr>\n",
       "    <tr>\n",
       "      <th>1/24/2021</th>\n",
       "      <td>3.005078e+06</td>\n",
       "    </tr>\n",
       "    <tr>\n",
       "      <th>1/25/2021</th>\n",
       "      <td>2.137679e+06</td>\n",
       "    </tr>\n",
       "    <tr>\n",
       "      <th>1/3/2021</th>\n",
       "      <td>1.071500e+06</td>\n",
       "    </tr>\n",
       "    <tr>\n",
       "      <th>1/4/2021</th>\n",
       "      <td>1.284362e+06</td>\n",
       "    </tr>\n",
       "    <tr>\n",
       "      <th>1/5/2021</th>\n",
       "      <td>1.418994e+06</td>\n",
       "    </tr>\n",
       "    <tr>\n",
       "      <th>1/6/2021</th>\n",
       "      <td>1.493784e+06</td>\n",
       "    </tr>\n",
       "    <tr>\n",
       "      <th>1/7/2021</th>\n",
       "      <td>1.636630e+06</td>\n",
       "    </tr>\n",
       "    <tr>\n",
       "      <th>1/8/2021</th>\n",
       "      <td>1.765219e+06</td>\n",
       "    </tr>\n",
       "    <tr>\n",
       "      <th>1/9/2021</th>\n",
       "      <td>1.845008e+06</td>\n",
       "    </tr>\n",
       "    <tr>\n",
       "      <th>12/13/2020</th>\n",
       "      <td>1.776995e+04</td>\n",
       "    </tr>\n",
       "    <tr>\n",
       "      <th>12/14/2020</th>\n",
       "      <td>2.801476e+04</td>\n",
       "    </tr>\n",
       "    <tr>\n",
       "      <th>12/15/2020</th>\n",
       "      <td>3.737306e+05</td>\n",
       "    </tr>\n",
       "    <tr>\n",
       "      <th>12/16/2020</th>\n",
       "      <td>2.023470e+05</td>\n",
       "    </tr>\n",
       "    <tr>\n",
       "      <th>12/17/2020</th>\n",
       "      <td>2.029550e+05</td>\n",
       "    </tr>\n",
       "    <tr>\n",
       "      <th>12/18/2020</th>\n",
       "      <td>2.032340e+05</td>\n",
       "    </tr>\n",
       "    <tr>\n",
       "      <th>12/19/2020</th>\n",
       "      <td>2.962625e+05</td>\n",
       "    </tr>\n",
       "    <tr>\n",
       "      <th>12/20/2020</th>\n",
       "      <td>1.024945e+06</td>\n",
       "    </tr>\n",
       "    <tr>\n",
       "      <th>12/21/2020</th>\n",
       "      <td>3.600970e+05</td>\n",
       "    </tr>\n",
       "    <tr>\n",
       "      <th>12/22/2020</th>\n",
       "      <td>4.389150e+05</td>\n",
       "    </tr>\n",
       "    <tr>\n",
       "      <th>12/23/2020</th>\n",
       "      <td>4.891342e+05</td>\n",
       "    </tr>\n",
       "    <tr>\n",
       "      <th>12/24/2020</th>\n",
       "      <td>5.744671e+05</td>\n",
       "    </tr>\n",
       "    <tr>\n",
       "      <th>12/25/2020</th>\n",
       "      <td>5.888882e+05</td>\n",
       "    </tr>\n",
       "    <tr>\n",
       "      <th>12/26/2020</th>\n",
       "      <td>6.098130e+05</td>\n",
       "    </tr>\n",
       "    <tr>\n",
       "      <th>12/27/2020</th>\n",
       "      <td>7.433615e+05</td>\n",
       "    </tr>\n",
       "    <tr>\n",
       "      <th>12/28/2020</th>\n",
       "      <td>7.319853e+05</td>\n",
       "    </tr>\n",
       "    <tr>\n",
       "      <th>12/29/2020</th>\n",
       "      <td>7.671143e+05</td>\n",
       "    </tr>\n",
       "    <tr>\n",
       "      <th>12/30/2020</th>\n",
       "      <td>8.377047e+05</td>\n",
       "    </tr>\n",
       "    <tr>\n",
       "      <th>12/31/2020</th>\n",
       "      <td>8.821853e+05</td>\n",
       "    </tr>\n",
       "  </tbody>\n",
       "</table>\n",
       "</div>"
      ],
      "text/plain": [
       "            daily_vaccinations\n",
       "date                          \n",
       "1/1/2021          9.374260e+05\n",
       "1/10/2021         1.927839e+06\n",
       "1/11/2021         1.983708e+06\n",
       "1/12/2021         2.002382e+06\n",
       "1/13/2021         2.286285e+06\n",
       "1/14/2021         2.558868e+06\n",
       "1/15/2021         2.937090e+06\n",
       "1/16/2021         3.001703e+06\n",
       "1/17/2021         2.944891e+06\n",
       "1/18/2021         3.067223e+06\n",
       "1/19/2021         3.280793e+06\n",
       "1/2/2021          1.014630e+06\n",
       "1/20/2021         3.341204e+06\n",
       "1/21/2021         2.683766e+06\n",
       "1/22/2021         2.772300e+06\n",
       "1/23/2021         2.918389e+06\n",
       "1/24/2021         3.005078e+06\n",
       "1/25/2021         2.137679e+06\n",
       "1/3/2021          1.071500e+06\n",
       "1/4/2021          1.284362e+06\n",
       "1/5/2021          1.418994e+06\n",
       "1/6/2021          1.493784e+06\n",
       "1/7/2021          1.636630e+06\n",
       "1/8/2021          1.765219e+06\n",
       "1/9/2021          1.845008e+06\n",
       "12/13/2020        1.776995e+04\n",
       "12/14/2020        2.801476e+04\n",
       "12/15/2020        3.737306e+05\n",
       "12/16/2020        2.023470e+05\n",
       "12/17/2020        2.029550e+05\n",
       "12/18/2020        2.032340e+05\n",
       "12/19/2020        2.962625e+05\n",
       "12/20/2020        1.024945e+06\n",
       "12/21/2020        3.600970e+05\n",
       "12/22/2020        4.389150e+05\n",
       "12/23/2020        4.891342e+05\n",
       "12/24/2020        5.744671e+05\n",
       "12/25/2020        5.888882e+05\n",
       "12/26/2020        6.098130e+05\n",
       "12/27/2020        7.433615e+05\n",
       "12/28/2020        7.319853e+05\n",
       "12/29/2020        7.671143e+05\n",
       "12/30/2020        8.377047e+05\n",
       "12/31/2020        8.821853e+05"
      ]
     },
     "execution_count": 61,
     "metadata": {},
     "output_type": "execute_result"
    }
   ],
   "source": [
    "# Firstly group by date and then sum\n",
    "# Then check the new series\n",
    "dates_group = df.groupby('date').sum()\n",
    "dates_group"
   ]
  },
  {
   "cell_type": "code",
   "execution_count": 64,
   "id": "646e670d",
   "metadata": {},
   "outputs": [],
   "source": [
    "# Convert series to dataframe\n",
    "dates_group = dates_group.reset_index()"
   ]
  },
  {
   "cell_type": "code",
   "execution_count": 71,
   "id": "7f990350",
   "metadata": {},
   "outputs": [],
   "source": [
    "# Find the value 1/6/2021\n",
    "value = dates_group[dates_group['date'] == '1/6/2021']['daily_vaccinations']"
   ]
  },
  {
   "cell_type": "code",
   "execution_count": 74,
   "id": "45cfc9e4",
   "metadata": {
    "scrolled": true
   },
   "outputs": [
    {
     "data": {
      "text/plain": [
       "21    1.493784e+06\n",
       "Name: daily_vaccinations, dtype: float64"
      ]
     },
     "execution_count": 74,
     "metadata": {},
     "output_type": "execute_result"
    }
   ],
   "source": [
    "# Result is\n",
    "value"
   ]
  },
  {
   "cell_type": "markdown",
   "id": "2b03c869",
   "metadata": {},
   "source": [
    "#### 7::::: Code Implementation Task: \n",
    "If this list would be a database table, please provide SQL query to fill in the missing daily vaccination numbers with discrete median of country as similar to question a.  \n",
    "Please  provide the link to your code as answer to this question. \n",
    "Note: This time SQL equivalent is requested, and imputation value is median of each country, not minimum. Please remember filling countries with zero if they do not have any valid daily_vaccination records like Kuwait."
   ]
  },
  {
   "cell_type": "code",
   "execution_count": null,
   "id": "7fa64688",
   "metadata": {},
   "outputs": [],
   "source": []
  }
 ],
 "metadata": {
  "kernelspec": {
   "display_name": "Python 3",
   "language": "python",
   "name": "python3"
  },
  "language_info": {
   "codemirror_mode": {
    "name": "ipython",
    "version": 3
   },
   "file_extension": ".py",
   "mimetype": "text/x-python",
   "name": "python",
   "nbconvert_exporter": "python",
   "pygments_lexer": "ipython3",
   "version": "3.8.8"
  }
 },
 "nbformat": 4,
 "nbformat_minor": 5
}
